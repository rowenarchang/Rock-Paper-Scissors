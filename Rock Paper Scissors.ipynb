{
 "cells": [
  {
   "cell_type": "code",
   "execution_count": 5,
   "metadata": {},
   "outputs": [],
   "source": [
    "from random import randint"
   ]
  },
  {
   "cell_type": "code",
   "execution_count": 6,
   "metadata": {},
   "outputs": [],
   "source": [
    "play_options = [\"Rock\", \"Paper\", \"Scissors\"]\n",
    "\n",
    "player = False"
   ]
  },
  {
   "cell_type": "code",
   "execution_count": null,
   "metadata": {},
   "outputs": [],
   "source": [
    "while player == False:\n",
    "    player = input(\"Choose: Rock, Paper, Scissors\\nPlayer: \")\n",
    "    computer = play_options[randint(0,2)]\n",
    "    print(\"Computer: \" + computer)\n",
    "    \n",
    "    if player == computer:\n",
    "        print(\"It's A Tie!\")\n",
    "    elif player == \"Paper\":\n",
    "        if computer == \"Rock\":\n",
    "            print(\"Aw :( You Lose\")\n",
    "        else: print(\"You Won! :D\")\n",
    "    elif player == \"Rock\":\n",
    "        if computer == \"Scissors\":\n",
    "            print(\"Aw :( You Lose\")\n",
    "        else: print(\"You Won! :D\")\n",
    "    elif player == \"Scissors\":\n",
    "        if computer == \"Paper\":\n",
    "            print(\"Aw :( You Lose\")\n",
    "        else: print(\"You Won! :D\")\n",
    "    else: print(\"Try again!\")\n",
    "\n",
    "player = False\n",
    "computer = play_options[randint(0,2)]"
   ]
  }
 ],
 "metadata": {
  "kernelspec": {
   "display_name": "Python 3",
   "language": "python",
   "name": "python3"
  }
 },
 "nbformat": 4,
 "nbformat_minor": 4
}
